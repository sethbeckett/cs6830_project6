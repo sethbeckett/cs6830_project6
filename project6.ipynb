{
 "cells": [
  {
   "attachments": {},
   "cell_type": "markdown",
   "metadata": {},
   "source": [
    "# Project 6\n",
    "Seth Beckett & Carson Stoker"
   ]
  },
  {
   "cell_type": "code",
   "execution_count": null,
   "metadata": {},
   "outputs": [],
   "source": [
    "import pandas as pd\n",
    "import numpy as np\n",
    "import matplotlib.pyplot as plt\n",
    "import seaborn as sns\n",
    "\n",
    "import statsmodels.api as sm\n",
    "from statsmodels.graphics.tsaplots import plot_acf, plot_pacf\n",
    "from statsmodels.tsa.seasonal import seasonal_decompose\n",
    "\n",
    "sns.set_theme()"
   ]
  },
  {
   "attachments": {},
   "cell_type": "markdown",
   "metadata": {},
   "source": [
    "## Data Exploration"
   ]
  },
  {
   "cell_type": "code",
   "execution_count": null,
   "metadata": {},
   "outputs": [],
   "source": [
    "hydro = pd.read_csv(\"data/RRCA_baseflow.csv\")\n",
    "hydro.head()"
   ]
  },
  {
   "cell_type": "code",
   "execution_count": null,
   "metadata": {},
   "outputs": [],
   "source": [
    "# fix date variable, add days var representing days since 1900-01-01, and add xy variable\n",
    "hydro['days'] = hydro.Date - 693963\n",
    "hydro['Date'] = pd.to_datetime(hydro['days'] ,origin='1900-01-01', unit='D')\n",
    "hydro['xy'] = hydro.x.astype(str) + ', ' + hydro.y.astype(str)\n",
    "hydro.head()"
   ]
  },
  {
   "cell_type": "code",
   "execution_count": null,
   "metadata": {},
   "outputs": [],
   "source": [
    "# look at target variable over time, split by segment_id\n",
    "sns.scatterplot(hydro, x='Date', y='Observed', hue='Segment_id')\n",
    "plt.show()"
   ]
  },
  {
   "cell_type": "code",
   "execution_count": null,
   "metadata": {},
   "outputs": [],
   "source": [
    "# look at outliers\n",
    "plt.boxplot(hydro[\"Observed\"], vert=False)\n",
    "plt.xlabel('Observed')\n",
    "plt.show()"
   ]
  },
  {
   "cell_type": "code",
   "execution_count": null,
   "metadata": {},
   "outputs": [],
   "source": [
    "# higher segment_id's correlate to the first chunk that causes the skew?\n",
    "sns.scatterplot(hydro, x='Segment_id', y='Observed')"
   ]
  },
  {
   "cell_type": "code",
   "execution_count": null,
   "metadata": {},
   "outputs": [],
   "source": [
    "# find what the two outlier groups are\n",
    "hydro.loc[hydro.Segment_id > 210].Segment_id.unique()"
   ]
  },
  {
   "cell_type": "code",
   "execution_count": null,
   "metadata": {},
   "outputs": [],
   "source": [
    "# look at range of dates for those two segments (seem to be old and not relevant)\n",
    "hydro.loc[(hydro.Segment_id == 239) | (hydro.Segment_id == 256)].Date.describe()"
   ]
  },
  {
   "cell_type": "code",
   "execution_count": null,
   "metadata": {},
   "outputs": [],
   "source": [
    "# look at outliers\n",
    "plt.boxplot(hydro.loc[hydro.Segment_id < 220].Observed, vert=False)\n",
    "plt.xlabel('Observed')\n",
    "plt.show()"
   ]
  },
  {
   "cell_type": "code",
   "execution_count": null,
   "metadata": {},
   "outputs": [],
   "source": [
    "# look at baseflow over time when bad segs removed\n",
    "hydro_2 = hydro.loc[hydro.Segment_id < 220]\n",
    "sns.scatterplot(hydro_2, x='Date', y='Observed', hue='Segment_id')\n",
    "plt.show()\n"
   ]
  },
  {
   "cell_type": "code",
   "execution_count": null,
   "metadata": {},
   "outputs": [],
   "source": [
    "# check out explanatory variables in comparison to response variable when segments 239 and 256 aren't removed\n",
    "fig, axs = plt.subplots(3, 2)\n",
    "sns.scatterplot(data=hydro, x='x', y='Observed', ax=axs[0,0], alpha=0.3, color='black')\n",
    "sns.scatterplot(data=hydro, x='y', y='Observed', ax=axs[1,0], alpha=0.3, color='black')\n",
    "sns.scatterplot(data=hydro, x='Evapotranspiration', y='Observed', ax=axs[2,0], alpha=0.3, color='black')\n",
    "sns.scatterplot(data=hydro, x='Precipitation', y='Observed', ax=axs[0,1], alpha=0.3, color='black')\n",
    "sns.scatterplot(data=hydro, x='Irrigation_pumping', y='Observed', ax=axs[1,1], alpha=0.3, color='black')\n",
    "\n",
    "\n",
    "plt.tight_layout()\n",
    "plt.show()\n"
   ]
  },
  {
   "cell_type": "code",
   "execution_count": null,
   "metadata": {},
   "outputs": [],
   "source": [
    "# check out vars when 239 and 256 are removed\n",
    "fig, axs = plt.subplots(3, 2)\n",
    "sns.scatterplot(data=hydro_2, x='x', y='Observed', ax=axs[0,0], alpha=0.3, color='black')\n",
    "sns.scatterplot(data=hydro_2, x='y', y='Observed', ax=axs[1,0], alpha=0.3, color='black')\n",
    "sns.scatterplot(data=hydro_2, x='Evapotranspiration', y='Observed', ax=axs[2,0], alpha=0.3, color='black')\n",
    "sns.scatterplot(data=hydro_2, x='Precipitation', y='Observed', ax=axs[0,1], alpha=0.3, color='black')\n",
    "sns.scatterplot(data=hydro_2, x='Irrigation_pumping', y='Observed', ax=axs[1,1], alpha=0.3, color='black')\n",
    "\n",
    "\n",
    "plt.tight_layout()\n",
    "plt.show()"
   ]
  },
  {
   "attachments": {},
   "cell_type": "markdown",
   "metadata": {},
   "source": [
    "## Model Fitting"
   ]
  },
  {
   "cell_type": "code",
   "execution_count": null,
   "metadata": {},
   "outputs": [],
   "source": [
    "# model with all data\n",
    "X = hydro_2.drop(columns=['Date', 'Observed'])\n",
    "X = pd.get_dummies(X, columns=['Segment_id', 'xy'], drop_first=True)\n",
    "y = hydro_2['Observed']\n",
    "\n",
    "results = sm.OLS(y, sm.add_constant(X)).fit()\n",
    "print(results.summary())"
   ]
  },
  {
   "cell_type": "code",
   "execution_count": null,
   "metadata": {},
   "outputs": [],
   "source": [
    "# make sure vars are all significant\n",
    "results.pvalues.sort_values(ascending=False).head()"
   ]
  },
  {
   "attachments": {},
   "cell_type": "markdown",
   "metadata": {},
   "source": [
    "All p-values are significant, but it might make it a little cleaner and more interpretable to cut out variables that might be highly collinear, like the segments and xy."
   ]
  },
  {
   "cell_type": "code",
   "execution_count": null,
   "metadata": {},
   "outputs": [],
   "source": [
    "# model without x, y, or segments (FINAL MODEL)\n",
    "X = hydro_2.drop(columns=['Date', 'Observed', 'Segment_id', 'x', 'y', 'days'])\n",
    "X = pd.get_dummies(X, columns=['xy'], drop_first=True)\n",
    "y = hydro_2['Observed']\n",
    "\n",
    "results = sm.OLS(y, sm.add_constant(X)).fit()\n",
    "print(results.summary())"
   ]
  },
  {
   "cell_type": "code",
   "execution_count": null,
   "metadata": {},
   "outputs": [],
   "source": [
    "# make sure all vars are significant\n",
    "results.pvalues.sort_values(ascending=False).head()"
   ]
  },
  {
   "cell_type": "code",
   "execution_count": null,
   "metadata": {},
   "outputs": [],
   "source": [
    "# check out coefficients\n",
    "results.params.head()"
   ]
  },
  {
   "cell_type": "code",
   "execution_count": null,
   "metadata": {},
   "outputs": [],
   "source": [
    "# check out most extreme coefficients\n",
    "print(results.params.sort_values(ascending=False).head(10))\n",
    "print()\n",
    "print(results.params.sort_values(ascending=True).head(10))"
   ]
  },
  {
   "cell_type": "code",
   "execution_count": null,
   "metadata": {},
   "outputs": [],
   "source": [
    "# look at info on each of the quantitative variables\n",
    "quant_vars = ['Evapotranspiration', 'Precipitation', 'Irrigation_pumping', 'days']\n",
    "hydro_2[quant_vars].describe()"
   ]
  },
  {
   "attachments": {},
   "cell_type": "markdown",
   "metadata": {},
   "source": [
    "Below I used this model to test against the above, but our above gets a better r^2 and is just as explainable"
   ]
  },
  {
   "cell_type": "code",
   "execution_count": null,
   "metadata": {},
   "outputs": [],
   "source": [
    "# model without x y or xy (segments might be better for explainability)\n",
    "X = hydro_2.drop(columns=['Date', 'Observed', 'xy', 'x', 'y'])\n",
    "X = pd.get_dummies(X, columns=['Segment_id'], drop_first=True)\n",
    "y = hydro_2['Observed']\n",
    "\n",
    "results = sm.OLS(y, sm.add_constant(X)).fit()\n",
    "print(results.summary())"
   ]
  },
  {
   "attachments": {},
   "cell_type": "markdown",
   "metadata": {},
   "source": [
    "Because our model using stations dummied out gets such a good adjusted r2 and the variables are explainable, we'll use that!"
   ]
  },
  {
   "attachments": {},
   "cell_type": "markdown",
   "metadata": {},
   "source": [
    "# RANDOM WORK BELOW HERE\n",
    "Below here is a bunch of work we did before realizing that our results were going to be super weird and not as interpretable if we included the data from segments 239 and 256, because they accounted for all of the baseflow above 220ish, and observations only ran from 1939-1949.\n",
    "\n",
    "Also we started doing a bunch of stuff outside of the scope of this project that we didn't fully understand (time-series and engineering lag features) so we're just doing the basics here."
   ]
  },
  {
   "attachments": {},
   "cell_type": "markdown",
   "metadata": {},
   "source": [
    "## 2. Initial Model\n",
    "Here we will fit an initial model and see if it meets the linear model assumptions"
   ]
  },
  {
   "cell_type": "code",
   "execution_count": null,
   "metadata": {},
   "outputs": [],
   "source": [
    "# since x and y have to do with a discrete location on the river, we will also use them as a dummy variable,\n",
    "# but we'll keep the separate x and y to predict as quantitative and see if it works\n",
    "hydro['xy'] = hydro.x.astype(str) + ', ' + hydro.y.astype(str)\n",
    "X = pd.get_dummies(hydro, columns=[\"Segment_id\", \"xy\"], drop_first=True).drop(columns=[\"Date\", \"Observed\"])\n",
    "X = sm.add_constant(X)\n",
    "y = hydro[\"Observed\"]\n",
    "display(X.head())\n",
    "display(y.head())"
   ]
  },
  {
   "cell_type": "code",
   "execution_count": null,
   "metadata": {},
   "outputs": [],
   "source": [
    "model_0 = sm.OLS(y, X)\n",
    "results_0 = model_0.fit()\n",
    "print(results_0.summary())\n"
   ]
  },
  {
   "cell_type": "code",
   "execution_count": null,
   "metadata": {},
   "outputs": [],
   "source": [
    "# try dropping x & y since we made them categorical\n",
    "X = X.drop(columns=['x', 'y'])\n",
    "\n",
    "model_1 = sm.OLS(y, X)\n",
    "results_1 = model_1.fit()\n",
    "print(results_1.summary())"
   ]
  },
  {
   "cell_type": "code",
   "execution_count": null,
   "metadata": {},
   "outputs": [],
   "source": [
    "# check assumptions (many use the errors)\n",
    "y_pred = results_1.predict(X)\n",
    "errors = y - y_pred"
   ]
  },
  {
   "cell_type": "code",
   "execution_count": null,
   "metadata": {},
   "outputs": [],
   "source": [
    "# normality of errors\n",
    "sm.qqplot(errors, alpha=0.25)\n",
    "plt.show()"
   ]
  },
  {
   "cell_type": "code",
   "execution_count": null,
   "metadata": {},
   "outputs": [],
   "source": [
    "# check error vs pred\n",
    "sns.scatterplot(x=y_pred, y=errors, alpha=0.3)"
   ]
  },
  {
   "attachments": {},
   "cell_type": "markdown",
   "metadata": {},
   "source": [
    "## 3. Fix Violated Assumptions\n",
    "Now we attempt to fix the violated assumptions, and will recheck the model for violations and check it's metrics"
   ]
  },
  {
   "attachments": {},
   "cell_type": "markdown",
   "metadata": {},
   "source": [
    "## 4. Time-Series Feature Engineering\n",
    "Here we will attempt to improve our model by looking at whether autocorrelation exists, and if it does we will create lag features."
   ]
  },
  {
   "cell_type": "code",
   "execution_count": null,
   "metadata": {},
   "outputs": [],
   "source": [
    "# look at autocorrelation\n",
    "fig, axes = plt.subplots(2, 1, figsize=(10,8))\n",
    "plot_acf(y, ax=axes[0])\n",
    "plot_pacf(y, ax=axes[1])\n",
    "plt.show()"
   ]
  },
  {
   "attachments": {},
   "cell_type": "markdown",
   "metadata": {},
   "source": [
    "This strongly suggests that the observed baseflow is highly influenced by previous measurements of observed baseflow"
   ]
  },
  {
   "cell_type": "code",
   "execution_count": null,
   "metadata": {},
   "outputs": [],
   "source": [
    "# add season feature to account for time\n"
   ]
  },
  {
   "attachments": {},
   "cell_type": "markdown",
   "metadata": {},
   "source": [
    "## 5. Final Model and Conclusions"
   ]
  },
  {
   "cell_type": "code",
   "execution_count": null,
   "metadata": {},
   "outputs": [],
   "source": [
    "# standardize to interpret coefficients\n",
    "quant_cols = ['Evapotranspiration', 'Precipitation', 'Irrigation_pumping']\n",
    "for col in quant_cols:\n",
    "    X[col] = (X[col] - X[col].mean()) / X[col].std()"
   ]
  },
  {
   "cell_type": "code",
   "execution_count": null,
   "metadata": {},
   "outputs": [],
   "source": [
    "model_3 = sm.OLS(y, X)\n",
    "results_3 = model_3.fit()\n",
    "print(results_3.summary())"
   ]
  },
  {
   "cell_type": "code",
   "execution_count": null,
   "metadata": {},
   "outputs": [],
   "source": [
    "# check out how the quantitative variables affect the model\n",
    "results_3.params[quant_cols].sort_values(ascending=False)"
   ]
  },
  {
   "cell_type": "code",
   "execution_count": null,
   "metadata": {},
   "outputs": [],
   "source": [
    "# check out the most extreme coefficients of all variables\n",
    "print(results_3.params.sort_values(ascending=False).head(10))\n",
    "print()\n",
    "print(results_3.params.sort_values().head(10))"
   ]
  },
  {
   "cell_type": "code",
   "execution_count": null,
   "metadata": {},
   "outputs": [],
   "source": [
    "# try removing combined xy since it's literally the same as Segment_id (almost exactly)\n",
    "X_new = hydro.drop(columns=['xy', 'x', 'y', 'Date', 'Observed'])\n",
    "for col in quant_cols:\n",
    "    X_new[col] = (X_new[col] - X_new[col].mean()) / X_new[col].std()"
   ]
  },
  {
   "cell_type": "code",
   "execution_count": null,
   "metadata": {},
   "outputs": [],
   "source": [
    "model_4 = sm.OLS(y, sm.add_constant(X_new))\n",
    "results_4 = model_4.fit()\n",
    "print(results_4.summary())"
   ]
  },
  {
   "cell_type": "code",
   "execution_count": null,
   "metadata": {},
   "outputs": [],
   "source": [
    "# terrible R^2, lets try throwing xy or x and y back in\n",
    "X_new = hydro.drop(columns=['x', 'y', 'Date', 'Observed'])\n",
    "for col in quant_cols:\n",
    "    X_new[col] = (X_new[col] - X_new[col].mean()) / X_new[col].std()\n",
    "\n",
    "model_5 = sm.OLS(y, sm.add_constant(pd.get_dummies(X_new, columns=['xy'], drop_first=True)))\n",
    "results_5 = model_5.fit()\n",
    "print(results_5.summary())"
   ]
  },
  {
   "cell_type": "code",
   "execution_count": null,
   "metadata": {},
   "outputs": [],
   "source": [
    "# arguably best model since least vars and most r2, so check out extreme coefficients\n",
    "print(results_5.params.sort_values(ascending=False).head(20))\n",
    "print()\n",
    "print(results_5.params.sort_values().head(20))"
   ]
  },
  {
   "cell_type": "code",
   "execution_count": null,
   "metadata": {},
   "outputs": [],
   "source": [
    "# check if it's the same with x and y and not xy\n",
    "X_new = hydro.drop(columns=['xy', 'Date', 'Observed'])\n",
    "\n",
    "quant_cols.append('x')\n",
    "quant_cols.append('y')\n",
    "\n",
    "for col in quant_cols:\n",
    "    X_new[col] = (X_new[col] - X_new[col].mean()) / X_new[col].std()\n",
    "\n",
    "model_6 = sm.OLS(y, sm.add_constant(X_new))\n",
    "results_6 = model_6.fit()\n",
    "print(results_6.summary())"
   ]
  },
  {
   "cell_type": "code",
   "execution_count": null,
   "metadata": {},
   "outputs": [],
   "source": [
    "X_new = hydro.drop(columns=['x', 'y', 'Date', 'Observed', 'xy'])\n",
    "X_new = pd.get_dummies(X_new, columns=['Segment_id'], drop_first=True)\n",
    "model_7 = sm.OLS(y, sm.add_constant(pd.get_dummies(X_new)))\n",
    "results_7 = model_7.fit()\n",
    "print(results_7.summary())"
   ]
  },
  {
   "attachments": {},
   "cell_type": "markdown",
   "metadata": {},
   "source": [
    "Conclusion: Using dummied out segments or dummied out xy combos are huge in getting a higher adjusted r2"
   ]
  },
  {
   "cell_type": "code",
   "execution_count": null,
   "metadata": {},
   "outputs": [],
   "source": [
    "X_final = hydro.drop(columns=['x', 'y', 'Date', 'Observed', 'Segment_id', 'days'])\n",
    "X_final = pd.get_dummies(X_final, columns=['xy'], drop_first=True)\n",
    "\n",
    "final_model = sm.OLS(y, sm.add_constant(pd.get_dummies(X_final)))\n",
    "final_results = final_model.fit()\n",
    "print(final_results.summary())"
   ]
  }
 ],
 "metadata": {
  "kernelspec": {
   "display_name": "Python 3",
   "language": "python",
   "name": "python3"
  },
  "language_info": {
   "codemirror_mode": {
    "name": "ipython",
    "version": 3
   },
   "file_extension": ".py",
   "mimetype": "text/x-python",
   "name": "python",
   "nbconvert_exporter": "python",
   "pygments_lexer": "ipython3",
   "version": "3.11.2"
  },
  "orig_nbformat": 4
 },
 "nbformat": 4,
 "nbformat_minor": 2
}
